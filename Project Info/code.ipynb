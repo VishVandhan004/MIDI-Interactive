{
 "cells": [
  {
   "cell_type": "code",
   "execution_count": 5,
   "id": "f687eff3-cd70-4c1f-9777-d77aadca0c62",
   "metadata": {},
   "outputs": [
    {
     "name": "stdout",
     "output_type": "stream",
     "text": [
      "Requirement already satisfied: mido in c:\\users\\talak\\appdata\\local\\programs\\python\\python312\\lib\\site-packages (1.3.0)\n",
      "Requirement already satisfied: pygame in c:\\users\\talak\\appdata\\local\\programs\\python\\python312\\lib\\site-packages (2.5.2)\n",
      "Requirement already satisfied: packaging~=23.1 in c:\\users\\talak\\appdata\\local\\programs\\python\\python312\\lib\\site-packages (from mido) (23.2)\n",
      "Note: you may need to restart the kernel to use updated packages.\n"
     ]
    },
    {
     "name": "stderr",
     "output_type": "stream",
     "text": [
      "\n",
      "[notice] A new release of pip is available: 23.2.1 -> 24.0\n",
      "[notice] To update, run: python.exe -m pip install --upgrade pip\n"
     ]
    }
   ],
   "source": [
    "pip install mido pygame"
   ]
  },
  {
   "cell_type": "code",
   "execution_count": 6,
   "id": "cfa33099-136c-4320-868e-21efa07740ef",
   "metadata": {},
   "outputs": [
    {
     "name": "stdout",
     "output_type": "stream",
     "text": [
      "Requirement already satisfied: Keyboard in c:\\users\\talak\\appdata\\local\\programs\\python\\python312\\lib\\site-packages (0.13.5)\n",
      "Note: you may need to restart the kernel to use updated packages.\n"
     ]
    },
    {
     "name": "stderr",
     "output_type": "stream",
     "text": [
      "\n",
      "[notice] A new release of pip is available: 23.2.1 -> 24.0\n",
      "[notice] To update, run: python.exe -m pip install --upgrade pip\n"
     ]
    }
   ],
   "source": [
    "pip install Keyboard"
   ]
  },
  {
   "cell_type": "code",
   "execution_count": 7,
   "id": "1532ded7-8725-4473-be29-3b10ffa3e36d",
   "metadata": {},
   "outputs": [
    {
     "name": "stdout",
     "output_type": "stream",
     "text": [
      "Requirement already satisfied: pynput in c:\\users\\talak\\appdata\\local\\programs\\python\\python312\\lib\\site-packages (1.7.6)\n",
      "Requirement already satisfied: six in c:\\users\\talak\\appdata\\local\\programs\\python\\python312\\lib\\site-packages (from pynput) (1.16.0)\n",
      "Note: you may need to restart the kernel to use updated packages.\n"
     ]
    },
    {
     "name": "stderr",
     "output_type": "stream",
     "text": [
      "\n",
      "[notice] A new release of pip is available: 23.2.1 -> 24.0\n",
      "[notice] To update, run: python.exe -m pip install --upgrade pip\n"
     ]
    }
   ],
   "source": [
    "pip install pynput"
   ]
  },
  {
   "cell_type": "code",
   "execution_count": 8,
   "id": "f51bef03-8388-4fbd-919a-2686405420aa",
   "metadata": {},
   "outputs": [
    {
     "name": "stdout",
     "output_type": "stream",
     "text": [
      "Requirement already satisfied: python-rtmidi in c:\\users\\talak\\appdata\\local\\programs\\python\\python312\\lib\\site-packages (1.5.7)\n",
      "Note: you may need to restart the kernel to use updated packages.\n"
     ]
    },
    {
     "name": "stderr",
     "output_type": "stream",
     "text": [
      "\n",
      "[notice] A new release of pip is available: 23.2.1 -> 24.0\n",
      "[notice] To update, run: python.exe -m pip install --upgrade pip\n"
     ]
    }
   ],
   "source": [
    "pip install python-rtmidi"
   ]
  },
  {
   "cell_type": "code",
   "execution_count": 9,
   "id": "62252f04-f265-453d-bc94-dbb7c6bd90e1",
   "metadata": {},
   "outputs": [],
   "source": [
    "import mido\n",
    "from pynput import keyboard"
   ]
  },
  {
   "cell_type": "code",
   "execution_count": 1,
   "id": "754323b7",
   "metadata": {},
   "outputs": [
    {
     "name": "stdout",
     "output_type": "stream",
     "text": [
      "Instrument set to Shanai.\n",
      "Instrument set to Marimba.\n",
      "Instrument set to Gunshot.\n",
      "Instrument set to Bird Tweet.\n",
      "Instrument set to .\n",
      "Instrument set to Bird Tweet.\n",
      "Instrument set to .\n"
     ]
    }
   ],
   "source": [
    "import mido\n",
    "from pynput import keyboard\n",
    "\n",
    "# Initialize MIDI\n",
    "mido.set_backend('mido.backends.rtmidi')\n",
    "output_port = mido.open_output()  # type: ignore\n",
    "\n",
    "# Mapping of keys to MIDI notes for Sa Re Ga Ma classical music\n",
    "key_to_note = {\n",
    "    'a': 60,  # Sa\n",
    "    's': 62,  # Re\n",
    "    'd': 64,  # Ga\n",
    "    'f': 65,  # Ma\n",
    "    'g': 67,  # Pa\n",
    "    'h': 69,  # Dha\n",
    "    'j': 71,  # Ni\n",
    "    'k': 72,  # Sa (Higher Octave)\n",
    "    'l': 74,\n",
    "    'z': 76,\n",
    "}\n",
    "\n",
    "# List of General MIDI (GM) instruments\n",
    "gm_instruments = [\n",
    "    # List of GM instruments\n",
    "     \"Acoustic Grand Piano\", \"Bright Acoustic Piano\", \"Electric Grand Piano\", \"Honky-tonk Piano\", \"Electric Piano 1 (Rhodes Piano)\",\n",
    "    \"Electric Piano 2 (Chorused Rhodes)\", \"Harpsichord\", \"Clavinet\", \"Celesta\", \"Glockenspiel\", \"Music Box\", \"Vibraphone\",\n",
    "    \"Marimba\", \"Xylophone\", \"Tubular Bells\", \"Dulcimer\", \"Drawbar Organ\", \"Percussive Organ\", \"Rock Organ\", \"Church Organ\",\n",
    "    \"Reed Organ\", \"Accordion\", \"Harmonica\", \"Tango Accordion\", \"Acoustic Guitar (nylon)\", \"Acoustic Guitar (steel)\",\n",
    "    \"Electric Guitar (jazz)\", \"Electric Guitar (clean)\", \"Electric Guitar (muted)\", \"Overdriven Guitar\", \"Distortion Guitar\",\n",
    "    \"Guitar Harmonics\", \"Acoustic Bass\", \"Electric Bass (finger)\", \"Electric Bass (pick)\", \"Fretless Bass\", \"Slap Bass 1\",\n",
    "    \"Slap Bass 2\", \"Synth Bass 1\", \"Synth Bass 2\", \"Violin\", \"Viola\", \"Cello\", \"Contrabass\", \"Tremolo Strings\", \"Pizzicato Strings\",\n",
    "    \"Orchestral Harp\", \"Timpani\", \"String Ensemble 1\", \"String Ensemble 2\", \"SynthStrings 1\", \"SynthStrings 2\", \"Choir Aahs\",\n",
    "    \"Voice Oohs\", \"Synth Voice\", \"Orchestra Hit\", \"Trumpet\", \"Trombone\", \"Tuba\", \"Muted Trumpet\", \"French Horn\", \"Brass Section\",\n",
    "    \"SynthBrass 1\", \"SynthBrass 2\", \"Soprano Sax\", \"Alto Sax\", \"Tenor Sax\", \"Baritone Sax\", \"Oboe\", \"English Horn\", \"Bassoon\",\n",
    "    \"Clarinet\", \"Piccolo\", \"Flute\", \"Recorder\", \"Pan Flute\", \"Blown Bottle\", \"Shakuhachi\", \"Whistle\", \"Ocarina\", \"Lead 1 (square)\",\n",
    "    \"Lead 2 (sawtooth)\", \"Lead 3 (calliope)\", \"Lead 4 (chiff)\", \"Lead 5 (charang)\", \"Lead 6 (voice)\", \"Lead 7 (fifths)\",\n",
    "    \"Lead 8 (bass + lead)\", \"Pad 1 (new age)\", \"Pad 2 (warm)\", \"Pad 3 (polysynth)\", \"Pad 4 (choir)\", \"Pad 5 (bowed)\",\n",
    "    \"Pad 6 (metallic)\", \"Pad 7 (halo)\", \"Pad 8 (sweep)\", \"FX 1 (rain)\", \"FX 2 (soundtrack)\", \"FX 3 (crystal)\", \"FX 4 (atmosphere)\",\n",
    "    \"FX 5 (brightness)\", \"FX 6 (goblins)\", \"FX 7 (echoes)\", \"FX 8 (sci-fi)\", \"Sitar\", \"Banjo\", \"Shamisen\", \"Koto\", \"Kalimba\",\n",
    "    \"Bag pipe\", \"Fiddle\", \"Shanai\", \"Tinkle Bell\", \"Agogo\", \"Steel Drums\", \"Woodblock\", \"Taiko Drum\", \"Melodic Tom\", \"Synth Drum\",\n",
    "    \"Reverse Cymbal\", \"Guitar Fret Noise\", \"Breath Noise\", \"Seashore\", \"Bird Tweet\", \"Telephone Ring\", \"Helicopter\", \"Applause\",\n",
    "    \"Gunshot\"\n",
    "]\n",
    "\n",
    "# Sample instrument mappings\n",
    "instrument_mapping = {\n",
    "    \"piano\": 0,\n",
    "    \"guitar\": 24,\n",
    "    \"violin\": 40,\n",
    "    # Add more instrument mappings as needed\n",
    "}\n",
    "\n",
    "# Function to get a subset of instruments\n",
    "def get_instrument_subset(start):\n",
    "    return {str(i % 10): (start + i) for i in range(10)}\n",
    "\n",
    "# Initialize the current program and subset\n",
    "current_program = 0\n",
    "instrument_subset_start = 0\n",
    "\n",
    "# Function to play a MIDI note with the specified program\n",
    "def play_midi_note(note, program):\n",
    "    msg_note_on = mido.Message('note_on', note=note, velocity=64, channel=0)\n",
    "    msg_program_change = mido.Message('program_change', program=program, channel=0)\n",
    "    output_port.send(msg_program_change)\n",
    "    output_port.send(msg_note_on)\n",
    "\n",
    "# Function to handle key press\n",
    "def on_key_press(key):\n",
    "    global current_program, instrument_subset_start\n",
    "    try:\n",
    "        char_key = key.char.lower()\n",
    "        if char_key in key_to_note:\n",
    "            note = key_to_note[char_key]\n",
    "            play_midi_note(note, current_program)\n",
    "        elif char_key.isdigit():\n",
    "            current_program = get_instrument_subset(instrument_subset_start)[char_key]\n",
    "        elif char_key == 'n':  # Switch to next subset of instruments\n",
    "            instrument_subset_start = (instrument_subset_start + 10) % 128\n",
    "        elif char_key == 'p':  # Switch to previous subset of instruments\n",
    "            instrument_subset_start = (instrument_subset_start - 10) % 128\n",
    "        elif char_key == 'i':  # Dynamically set instrument\n",
    "            instrument_name = input(\"Enter instrument name: \")\n",
    "            set_instrument_program(instrument_name)\n",
    "    except AttributeError:\n",
    "        pass\n",
    "\n",
    "def set_instrument_program(instrument_name):\n",
    "    global current_program\n",
    "    current_program = instrument_mapping.get(instrument_name, 0)\n",
    "    print(f\"Instrument set to {instrument_name}.\")\n",
    "\n",
    "# Function to stop playing a MIDI note\n",
    "def stop_midi_note(note):\n",
    "    msg_note_off = mido.Message('note_off', note=note, velocity=64, channel=0)\n",
    "    output_port.send(msg_note_off)\n",
    "\n",
    "# Function to handle key release\n",
    "def on_key_release(key):\n",
    "    try:\n",
    "        char_key = key.char.lower()\n",
    "        if char_key in key_to_note:\n",
    "            note = key_to_note[char_key]\n",
    "            stop_midi_note(note)\n",
    "    except AttributeError:\n",
    "        pass\n",
    "\n",
    "# Set up keyboard listener\n",
    "with keyboard.Listener(on_press=on_key_press, on_release=on_key_release) as listener:\n",
    "    try:\n",
    "        listener.join()\n",
    "    except KeyboardInterrupt:\n",
    "        # Close the output port when the program exits\n",
    "        output_port.close()"
   ]
  },
  {
   "cell_type": "code",
   "execution_count": null,
   "id": "1de340d9",
   "metadata": {},
   "outputs": [],
   "source": [
    "i\n",
    "1 hghgghhgdshfhkjsdfhdklhdfhdshfhhghghgkmdfhshgghghghdsfhkjdfskjhjhllghdfhhh\n",
    "i"
   ]
  }
 ],
 "metadata": {
  "kernelspec": {
   "display_name": "Python 3 (ipykernel)",
   "language": "python",
   "name": "python3"
  },
  "language_info": {
   "codemirror_mode": {
    "name": "ipython",
    "version": 3
   },
   "file_extension": ".py",
   "mimetype": "text/x-python",
   "name": "python",
   "nbconvert_exporter": "python",
   "pygments_lexer": "ipython3",
   "version": "3.12.0"
  }
 },
 "nbformat": 4,
 "nbformat_minor": 5
}
